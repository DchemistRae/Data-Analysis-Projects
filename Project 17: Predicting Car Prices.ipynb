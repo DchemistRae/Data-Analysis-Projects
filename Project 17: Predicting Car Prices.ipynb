{
 "cells": [
  {
   "cell_type": "markdown",
   "metadata": {
    "collapsed": true
   },
   "source": [
    "# Guided Project: Predicting Car Prices\n",
    "\n",
    " In this guided project, we will predict a car's market price using its attributes. The data set we will be working with contains information on various cars. For each car we have information about the technical aspects of the vehicle such as the motor's displacement, the weight of the car, the miles per gallon, how fast the car accelerates, and more. More information about the dataset can be found [here](https://archive.ics.uci.edu/ml/datasets/automobile), and the data can be downloaded from [here](https://archive.ics.uci.edu/ml/machine-learning-databases/autos/imports-85.data)."
   ]
  },
  {
   "cell_type": "code",
   "execution_count": 3,
   "metadata": {
    "collapsed": true
   },
   "outputs": [],
   "source": [
    "import pandas as pd\n",
    "import numpy as np"
   ]
  },
  {
   "cell_type": "code",
   "execution_count": 4,
   "metadata": {
    "collapsed": false
   },
   "outputs": [],
   "source": [
    "col_names = cols = ['symboling', 'normalized-losses', 'make', 'fuel-type', 'aspiration', 'num-of-doors', 'body-style', \n",
    "        'drive-wheels', 'engine-location', 'wheel-base', 'length', 'width', 'height', 'curb-weight', 'engine-type', \n",
    "        'num-of-cylinders', 'engine-size', 'fuel-system', 'bore', 'stroke', 'compression-rate', 'horsepower', 'peak-rpm', 'city-mpg', 'highway-mpg', 'price']\n",
    "cars = pd.read_csv('imports-85.data', names = col_names)"
   ]
  },
  {
   "cell_type": "code",
   "execution_count": 5,
   "metadata": {
    "collapsed": false
   },
   "outputs": [
    {
     "data": {
      "text/html": [
       "<div>\n",
       "<style scoped>\n",
       "    .dataframe tbody tr th:only-of-type {\n",
       "        vertical-align: middle;\n",
       "    }\n",
       "\n",
       "    .dataframe tbody tr th {\n",
       "        vertical-align: top;\n",
       "    }\n",
       "\n",
       "    .dataframe thead th {\n",
       "        text-align: right;\n",
       "    }\n",
       "</style>\n",
       "<table border=\"1\" class=\"dataframe\">\n",
       "  <thead>\n",
       "    <tr style=\"text-align: right;\">\n",
       "      <th></th>\n",
       "      <th>symboling</th>\n",
       "      <th>normalized-losses</th>\n",
       "      <th>make</th>\n",
       "      <th>fuel-type</th>\n",
       "      <th>aspiration</th>\n",
       "      <th>num-of-doors</th>\n",
       "      <th>body-style</th>\n",
       "      <th>drive-wheels</th>\n",
       "      <th>engine-location</th>\n",
       "      <th>wheel-base</th>\n",
       "      <th>...</th>\n",
       "      <th>engine-size</th>\n",
       "      <th>fuel-system</th>\n",
       "      <th>bore</th>\n",
       "      <th>stroke</th>\n",
       "      <th>compression-rate</th>\n",
       "      <th>horsepower</th>\n",
       "      <th>peak-rpm</th>\n",
       "      <th>city-mpg</th>\n",
       "      <th>highway-mpg</th>\n",
       "      <th>price</th>\n",
       "    </tr>\n",
       "  </thead>\n",
       "  <tbody>\n",
       "    <tr>\n",
       "      <th>0</th>\n",
       "      <td>3</td>\n",
       "      <td>?</td>\n",
       "      <td>alfa-romero</td>\n",
       "      <td>gas</td>\n",
       "      <td>std</td>\n",
       "      <td>two</td>\n",
       "      <td>convertible</td>\n",
       "      <td>rwd</td>\n",
       "      <td>front</td>\n",
       "      <td>88.6</td>\n",
       "      <td>...</td>\n",
       "      <td>130</td>\n",
       "      <td>mpfi</td>\n",
       "      <td>3.47</td>\n",
       "      <td>2.68</td>\n",
       "      <td>9.0</td>\n",
       "      <td>111</td>\n",
       "      <td>5000</td>\n",
       "      <td>21</td>\n",
       "      <td>27</td>\n",
       "      <td>13495</td>\n",
       "    </tr>\n",
       "    <tr>\n",
       "      <th>1</th>\n",
       "      <td>3</td>\n",
       "      <td>?</td>\n",
       "      <td>alfa-romero</td>\n",
       "      <td>gas</td>\n",
       "      <td>std</td>\n",
       "      <td>two</td>\n",
       "      <td>convertible</td>\n",
       "      <td>rwd</td>\n",
       "      <td>front</td>\n",
       "      <td>88.6</td>\n",
       "      <td>...</td>\n",
       "      <td>130</td>\n",
       "      <td>mpfi</td>\n",
       "      <td>3.47</td>\n",
       "      <td>2.68</td>\n",
       "      <td>9.0</td>\n",
       "      <td>111</td>\n",
       "      <td>5000</td>\n",
       "      <td>21</td>\n",
       "      <td>27</td>\n",
       "      <td>16500</td>\n",
       "    </tr>\n",
       "    <tr>\n",
       "      <th>2</th>\n",
       "      <td>1</td>\n",
       "      <td>?</td>\n",
       "      <td>alfa-romero</td>\n",
       "      <td>gas</td>\n",
       "      <td>std</td>\n",
       "      <td>two</td>\n",
       "      <td>hatchback</td>\n",
       "      <td>rwd</td>\n",
       "      <td>front</td>\n",
       "      <td>94.5</td>\n",
       "      <td>...</td>\n",
       "      <td>152</td>\n",
       "      <td>mpfi</td>\n",
       "      <td>2.68</td>\n",
       "      <td>3.47</td>\n",
       "      <td>9.0</td>\n",
       "      <td>154</td>\n",
       "      <td>5000</td>\n",
       "      <td>19</td>\n",
       "      <td>26</td>\n",
       "      <td>16500</td>\n",
       "    </tr>\n",
       "  </tbody>\n",
       "</table>\n",
       "<p>3 rows × 26 columns</p>\n",
       "</div>"
      ],
      "text/plain": [
       "   symboling normalized-losses         make fuel-type aspiration num-of-doors  \\\n",
       "0          3                 ?  alfa-romero       gas        std          two   \n",
       "1          3                 ?  alfa-romero       gas        std          two   \n",
       "2          1                 ?  alfa-romero       gas        std          two   \n",
       "\n",
       "    body-style drive-wheels engine-location  wheel-base  ...    engine-size  \\\n",
       "0  convertible          rwd           front        88.6  ...            130   \n",
       "1  convertible          rwd           front        88.6  ...            130   \n",
       "2    hatchback          rwd           front        94.5  ...            152   \n",
       "\n",
       "   fuel-system  bore  stroke compression-rate horsepower  peak-rpm city-mpg  \\\n",
       "0         mpfi  3.47    2.68              9.0        111      5000       21   \n",
       "1         mpfi  3.47    2.68              9.0        111      5000       21   \n",
       "2         mpfi  2.68    3.47              9.0        154      5000       19   \n",
       "\n",
       "  highway-mpg  price  \n",
       "0          27  13495  \n",
       "1          27  16500  \n",
       "2          26  16500  \n",
       "\n",
       "[3 rows x 26 columns]"
      ]
     },
     "execution_count": 5,
     "metadata": {},
     "output_type": "execute_result"
    }
   ],
   "source": [
    "cars.head(3)"
   ]
  },
  {
   "cell_type": "markdown",
   "metadata": {},
   "source": [
    "### Data preparation"
   ]
  },
  {
   "cell_type": "code",
   "execution_count": 6,
   "metadata": {
    "collapsed": false
   },
   "outputs": [
    {
     "data": {
      "text/plain": [
       "array(['?', '164', '158', '192', '188', '121', '98', '81', '118', '148',\n",
       "       '110', '145', '137', '101', '78', '106', '85', '107', '104', '113',\n",
       "       '150', '129', '115', '93', '142', '161', '153', '125', '128',\n",
       "       '122', '103', '168', '108', '194', '231', '119', '154', '74',\n",
       "       '186', '83', '102', '89', '87', '77', '91', '134', '65', '197',\n",
       "       '90', '94', '256', '95'], dtype=object)"
      ]
     },
     "execution_count": 6,
     "metadata": {},
     "output_type": "execute_result"
    }
   ],
   "source": [
    "cars['normalized-losses'].unique()"
   ]
  },
  {
   "cell_type": "markdown",
   "metadata": {},
   "source": [
    "Some rows contain question marks '?', these have to be replaced as nans"
   ]
  },
  {
   "cell_type": "code",
   "execution_count": 7,
   "metadata": {
    "collapsed": true
   },
   "outputs": [],
   "source": [
    "cars.replace('?', np.nan, inplace = True)"
   ]
  },
  {
   "cell_type": "markdown",
   "metadata": {},
   "source": [
    "Because ? is a string value, columns containing this value were cast to the pandas object data type (instead of a numeric type like int or float). We will now search for such columns and convert them to the correct data types."
   ]
  },
  {
   "cell_type": "code",
   "execution_count": 8,
   "metadata": {
    "collapsed": false
   },
   "outputs": [
    {
     "data": {
      "text/plain": [
       "symboling              int64\n",
       "normalized-losses     object\n",
       "make                  object\n",
       "fuel-type             object\n",
       "aspiration            object\n",
       "num-of-doors          object\n",
       "body-style            object\n",
       "drive-wheels          object\n",
       "engine-location       object\n",
       "wheel-base           float64\n",
       "length               float64\n",
       "width                float64\n",
       "height               float64\n",
       "curb-weight            int64\n",
       "engine-type           object\n",
       "num-of-cylinders      object\n",
       "engine-size            int64\n",
       "fuel-system           object\n",
       "bore                  object\n",
       "stroke                object\n",
       "compression-rate     float64\n",
       "horsepower            object\n",
       "peak-rpm              object\n",
       "city-mpg               int64\n",
       "highway-mpg            int64\n",
       "price                 object\n",
       "dtype: object"
      ]
     },
     "execution_count": 8,
     "metadata": {},
     "output_type": "execute_result"
    }
   ],
   "source": [
    "cars.dtypes"
   ]
  },
  {
   "cell_type": "markdown",
   "metadata": {},
   "source": [
    "Looking at the data types above:\n",
    "\n",
    "Columns such as 'num-of-doors' and 'num-of-cylinders' as object does not make much sense, as they are supposed to be numeric and not strings. Lets look at this columns to see what the problem might be. \n",
    "\n",
    "The columns 'bore', 'stroke', 'horsepower', 'peak_rpm, and 'price' will have to be converted to numeric types. "
   ]
  },
  {
   "cell_type": "code",
   "execution_count": 9,
   "metadata": {
    "collapsed": false
   },
   "outputs": [
    {
     "data": {
      "text/plain": [
       "array(['two', 'four', nan], dtype=object)"
      ]
     },
     "execution_count": 9,
     "metadata": {},
     "output_type": "execute_result"
    }
   ],
   "source": [
    "cars['num-of-doors'].unique()"
   ]
  },
  {
   "cell_type": "code",
   "execution_count": 10,
   "metadata": {
    "collapsed": false
   },
   "outputs": [
    {
     "data": {
      "text/plain": [
       "array(['four', 'six', 'five', 'three', 'twelve', 'two', 'eight'],\n",
       "      dtype=object)"
      ]
     },
     "execution_count": 10,
     "metadata": {},
     "output_type": "execute_result"
    }
   ],
   "source": [
    "cars['num-of-cylinders'].unique()"
   ]
  },
  {
   "cell_type": "code",
   "execution_count": 11,
   "metadata": {
    "collapsed": false
   },
   "outputs": [],
   "source": [
    "# replace these strings with their corresponding numbers\n",
    "dex = {'two':2, 'three':3, 'four':4, 'five':5, 'six':6, 'eight':8, 'twelve':12}\n",
    "cols = ['num-of-doors', 'num-of-cylinders']\n",
    "cars[cols] =cars[cols].replace(dex)"
   ]
  },
  {
   "cell_type": "code",
   "execution_count": 12,
   "metadata": {
    "collapsed": false
   },
   "outputs": [],
   "source": [
    "# convert to numeric\n",
    "num_cols = ['bore', 'normalized-losses', 'horsepower', 'stroke', 'peak-rpm', 'price']\n",
    "cars[num_cols] = cars[num_cols].apply(pd.to_numeric, errors='coerce')"
   ]
  },
  {
   "cell_type": "code",
   "execution_count": 13,
   "metadata": {
    "collapsed": false
   },
   "outputs": [
    {
     "data": {
      "text/html": [
       "<div>\n",
       "<style scoped>\n",
       "    .dataframe tbody tr th:only-of-type {\n",
       "        vertical-align: middle;\n",
       "    }\n",
       "\n",
       "    .dataframe tbody tr th {\n",
       "        vertical-align: top;\n",
       "    }\n",
       "\n",
       "    .dataframe thead th {\n",
       "        text-align: right;\n",
       "    }\n",
       "</style>\n",
       "<table border=\"1\" class=\"dataframe\">\n",
       "  <thead>\n",
       "    <tr style=\"text-align: right;\">\n",
       "      <th></th>\n",
       "      <th>symboling</th>\n",
       "      <th>normalized-losses</th>\n",
       "      <th>make</th>\n",
       "      <th>fuel-type</th>\n",
       "      <th>aspiration</th>\n",
       "      <th>num-of-doors</th>\n",
       "      <th>body-style</th>\n",
       "      <th>drive-wheels</th>\n",
       "      <th>engine-location</th>\n",
       "      <th>wheel-base</th>\n",
       "      <th>...</th>\n",
       "      <th>engine-size</th>\n",
       "      <th>fuel-system</th>\n",
       "      <th>bore</th>\n",
       "      <th>stroke</th>\n",
       "      <th>compression-rate</th>\n",
       "      <th>horsepower</th>\n",
       "      <th>peak-rpm</th>\n",
       "      <th>city-mpg</th>\n",
       "      <th>highway-mpg</th>\n",
       "      <th>price</th>\n",
       "    </tr>\n",
       "  </thead>\n",
       "  <tbody>\n",
       "    <tr>\n",
       "      <th>0</th>\n",
       "      <td>3</td>\n",
       "      <td>NaN</td>\n",
       "      <td>alfa-romero</td>\n",
       "      <td>gas</td>\n",
       "      <td>std</td>\n",
       "      <td>2.0</td>\n",
       "      <td>convertible</td>\n",
       "      <td>rwd</td>\n",
       "      <td>front</td>\n",
       "      <td>88.6</td>\n",
       "      <td>...</td>\n",
       "      <td>130</td>\n",
       "      <td>mpfi</td>\n",
       "      <td>3.47</td>\n",
       "      <td>2.68</td>\n",
       "      <td>9.0</td>\n",
       "      <td>111.0</td>\n",
       "      <td>5000.0</td>\n",
       "      <td>21</td>\n",
       "      <td>27</td>\n",
       "      <td>13495.0</td>\n",
       "    </tr>\n",
       "    <tr>\n",
       "      <th>1</th>\n",
       "      <td>3</td>\n",
       "      <td>NaN</td>\n",
       "      <td>alfa-romero</td>\n",
       "      <td>gas</td>\n",
       "      <td>std</td>\n",
       "      <td>2.0</td>\n",
       "      <td>convertible</td>\n",
       "      <td>rwd</td>\n",
       "      <td>front</td>\n",
       "      <td>88.6</td>\n",
       "      <td>...</td>\n",
       "      <td>130</td>\n",
       "      <td>mpfi</td>\n",
       "      <td>3.47</td>\n",
       "      <td>2.68</td>\n",
       "      <td>9.0</td>\n",
       "      <td>111.0</td>\n",
       "      <td>5000.0</td>\n",
       "      <td>21</td>\n",
       "      <td>27</td>\n",
       "      <td>16500.0</td>\n",
       "    </tr>\n",
       "    <tr>\n",
       "      <th>2</th>\n",
       "      <td>1</td>\n",
       "      <td>NaN</td>\n",
       "      <td>alfa-romero</td>\n",
       "      <td>gas</td>\n",
       "      <td>std</td>\n",
       "      <td>2.0</td>\n",
       "      <td>hatchback</td>\n",
       "      <td>rwd</td>\n",
       "      <td>front</td>\n",
       "      <td>94.5</td>\n",
       "      <td>...</td>\n",
       "      <td>152</td>\n",
       "      <td>mpfi</td>\n",
       "      <td>2.68</td>\n",
       "      <td>3.47</td>\n",
       "      <td>9.0</td>\n",
       "      <td>154.0</td>\n",
       "      <td>5000.0</td>\n",
       "      <td>19</td>\n",
       "      <td>26</td>\n",
       "      <td>16500.0</td>\n",
       "    </tr>\n",
       "  </tbody>\n",
       "</table>\n",
       "<p>3 rows × 26 columns</p>\n",
       "</div>"
      ],
      "text/plain": [
       "   symboling  normalized-losses         make fuel-type aspiration  \\\n",
       "0          3                NaN  alfa-romero       gas        std   \n",
       "1          3                NaN  alfa-romero       gas        std   \n",
       "2          1                NaN  alfa-romero       gas        std   \n",
       "\n",
       "   num-of-doors   body-style drive-wheels engine-location  wheel-base  \\\n",
       "0           2.0  convertible          rwd           front        88.6   \n",
       "1           2.0  convertible          rwd           front        88.6   \n",
       "2           2.0    hatchback          rwd           front        94.5   \n",
       "\n",
       "    ...     engine-size  fuel-system  bore  stroke compression-rate  \\\n",
       "0   ...             130         mpfi  3.47    2.68              9.0   \n",
       "1   ...             130         mpfi  3.47    2.68              9.0   \n",
       "2   ...             152         mpfi  2.68    3.47              9.0   \n",
       "\n",
       "   horsepower  peak-rpm city-mpg  highway-mpg    price  \n",
       "0       111.0    5000.0       21           27  13495.0  \n",
       "1       111.0    5000.0       21           27  16500.0  \n",
       "2       154.0    5000.0       19           26  16500.0  \n",
       "\n",
       "[3 rows x 26 columns]"
      ]
     },
     "execution_count": 13,
     "metadata": {},
     "output_type": "execute_result"
    }
   ],
   "source": [
    "cars.head(3)"
   ]
  },
  {
   "cell_type": "markdown",
   "metadata": {},
   "source": [
    "### Handling missing value"
   ]
  },
  {
   "cell_type": "code",
   "execution_count": 14,
   "metadata": {
    "collapsed": false
   },
   "outputs": [
    {
     "data": {
      "text/plain": [
       "41"
      ]
     },
     "execution_count": 14,
     "metadata": {},
     "output_type": "execute_result"
    }
   ],
   "source": [
    "cars['normalized-losses'].isnull().sum()"
   ]
  },
  {
   "cell_type": "code",
   "execution_count": 15,
   "metadata": {
    "collapsed": false
   },
   "outputs": [
    {
     "data": {
      "text/plain": [
       "(205, 26)"
      ]
     },
     "execution_count": 15,
     "metadata": {},
     "output_type": "execute_result"
    }
   ],
   "source": [
    "cars.shape"
   ]
  },
  {
   "cell_type": "markdown",
   "metadata": {},
   "source": [
    "Alomost a quarter of the total rows in this column is missing. Will loose too much data by dropping rows with missing values. However, losses due to insurance is very important when predicting a cars market price. We should instead drop this column."
   ]
  },
  {
   "cell_type": "code",
   "execution_count": 16,
   "metadata": {
    "collapsed": false
   },
   "outputs": [],
   "source": [
    "cars.drop('normalized-losses', axis = 'columns', inplace = True)"
   ]
  },
  {
   "cell_type": "code",
   "execution_count": 17,
   "metadata": {
    "collapsed": false
   },
   "outputs": [
    {
     "data": {
      "text/plain": [
       "symboling           0\n",
       "make                0\n",
       "fuel-type           0\n",
       "aspiration          0\n",
       "num-of-doors        2\n",
       "body-style          0\n",
       "drive-wheels        0\n",
       "engine-location     0\n",
       "wheel-base          0\n",
       "length              0\n",
       "width               0\n",
       "height              0\n",
       "curb-weight         0\n",
       "engine-type         0\n",
       "num-of-cylinders    0\n",
       "engine-size         0\n",
       "fuel-system         0\n",
       "bore                4\n",
       "stroke              4\n",
       "compression-rate    0\n",
       "horsepower          2\n",
       "peak-rpm            2\n",
       "city-mpg            0\n",
       "highway-mpg         0\n",
       "price               4\n",
       "dtype: int64"
      ]
     },
     "execution_count": 17,
     "metadata": {},
     "output_type": "execute_result"
    }
   ],
   "source": [
    "cars.isnull().sum()"
   ]
  },
  {
   "cell_type": "markdown",
   "metadata": {},
   "source": [
    "Lets drop rows with missing values in this case"
   ]
  },
  {
   "cell_type": "code",
   "execution_count": 18,
   "metadata": {
    "collapsed": true
   },
   "outputs": [],
   "source": [
    "cars.dropna(inplace = True)"
   ]
  },
  {
   "cell_type": "markdown",
   "metadata": {},
   "source": [
    "### Normalize all numeric columns except target column (price)"
   ]
  },
  {
   "cell_type": "code",
   "execution_count": 19,
   "metadata": {
    "collapsed": true
   },
   "outputs": [],
   "source": [
    "# Select all the numeric columns\n",
    "numeric_cols = ['wheel-base', 'length', 'width', 'height', 'curb-weight', 'engine-size', 'bore', 'stroke', 'compression-rate', 'horsepower', 'peak-rpm', 'city-mpg', 'highway-mpg', 'price','num-of-doors','num-of-cylinders']\n",
    "numeric_cars = cars[numeric_cols]"
   ]
  },
  {
   "cell_type": "code",
   "execution_count": 20,
   "metadata": {
    "collapsed": false
   },
   "outputs": [],
   "source": [
    "price = numeric_cars['price']\n",
    "numeric_cars = (numeric_cars - numeric_cars.mean())/ numeric_cars.std()\n",
    "numeric_cars['price'] = price"
   ]
  },
  {
   "cell_type": "code",
   "execution_count": 21,
   "metadata": {
    "collapsed": false
   },
   "outputs": [
    {
     "data": {
      "text/html": [
       "<div>\n",
       "<style scoped>\n",
       "    .dataframe tbody tr th:only-of-type {\n",
       "        vertical-align: middle;\n",
       "    }\n",
       "\n",
       "    .dataframe tbody tr th {\n",
       "        vertical-align: top;\n",
       "    }\n",
       "\n",
       "    .dataframe thead th {\n",
       "        text-align: right;\n",
       "    }\n",
       "</style>\n",
       "<table border=\"1\" class=\"dataframe\">\n",
       "  <thead>\n",
       "    <tr style=\"text-align: right;\">\n",
       "      <th></th>\n",
       "      <th>wheel-base</th>\n",
       "      <th>length</th>\n",
       "      <th>width</th>\n",
       "      <th>height</th>\n",
       "      <th>curb-weight</th>\n",
       "      <th>engine-size</th>\n",
       "      <th>bore</th>\n",
       "      <th>stroke</th>\n",
       "      <th>compression-rate</th>\n",
       "      <th>horsepower</th>\n",
       "      <th>peak-rpm</th>\n",
       "      <th>city-mpg</th>\n",
       "      <th>highway-mpg</th>\n",
       "      <th>price</th>\n",
       "      <th>num-of-doors</th>\n",
       "      <th>num-of-cylinders</th>\n",
       "    </tr>\n",
       "  </thead>\n",
       "  <tbody>\n",
       "    <tr>\n",
       "      <th>0</th>\n",
       "      <td>-1.678015</td>\n",
       "      <td>-0.442872</td>\n",
       "      <td>-0.839080</td>\n",
       "      <td>-2.117092</td>\n",
       "      <td>-0.025646</td>\n",
       "      <td>0.045098</td>\n",
       "      <td>0.511697</td>\n",
       "      <td>-1.803495</td>\n",
       "      <td>-0.287525</td>\n",
       "      <td>0.198054</td>\n",
       "      <td>-0.212806</td>\n",
       "      <td>-0.677292</td>\n",
       "      <td>-0.555613</td>\n",
       "      <td>13495.0</td>\n",
       "      <td>-1.172839</td>\n",
       "      <td>-0.410180</td>\n",
       "    </tr>\n",
       "    <tr>\n",
       "      <th>1</th>\n",
       "      <td>-1.678015</td>\n",
       "      <td>-0.442872</td>\n",
       "      <td>-0.839080</td>\n",
       "      <td>-2.117092</td>\n",
       "      <td>-0.025646</td>\n",
       "      <td>0.045098</td>\n",
       "      <td>0.511697</td>\n",
       "      <td>-1.803495</td>\n",
       "      <td>-0.287525</td>\n",
       "      <td>0.198054</td>\n",
       "      <td>-0.212806</td>\n",
       "      <td>-0.677292</td>\n",
       "      <td>-0.555613</td>\n",
       "      <td>16500.0</td>\n",
       "      <td>-1.172839</td>\n",
       "      <td>-0.410180</td>\n",
       "    </tr>\n",
       "    <tr>\n",
       "      <th>2</th>\n",
       "      <td>-0.719041</td>\n",
       "      <td>-0.250543</td>\n",
       "      <td>-0.184200</td>\n",
       "      <td>-0.613816</td>\n",
       "      <td>0.496473</td>\n",
       "      <td>0.574066</td>\n",
       "      <td>-2.388614</td>\n",
       "      <td>0.701095</td>\n",
       "      <td>-0.287525</td>\n",
       "      <td>1.330822</td>\n",
       "      <td>-0.212806</td>\n",
       "      <td>-0.990387</td>\n",
       "      <td>-0.702307</td>\n",
       "      <td>16500.0</td>\n",
       "      <td>-1.172839</td>\n",
       "      <td>1.544506</td>\n",
       "    </tr>\n",
       "    <tr>\n",
       "      <th>3</th>\n",
       "      <td>0.142410</td>\n",
       "      <td>0.182198</td>\n",
       "      <td>0.143240</td>\n",
       "      <td>0.179580</td>\n",
       "      <td>-0.426254</td>\n",
       "      <td>-0.459826</td>\n",
       "      <td>-0.516262</td>\n",
       "      <td>0.479169</td>\n",
       "      <td>-0.036110</td>\n",
       "      <td>-0.039037</td>\n",
       "      <td>0.853987</td>\n",
       "      <td>-0.207649</td>\n",
       "      <td>-0.115531</td>\n",
       "      <td>13950.0</td>\n",
       "      <td>0.848214</td>\n",
       "      <td>-0.410180</td>\n",
       "    </tr>\n",
       "    <tr>\n",
       "      <th>4</th>\n",
       "      <td>0.077395</td>\n",
       "      <td>0.182198</td>\n",
       "      <td>0.236794</td>\n",
       "      <td>0.179580</td>\n",
       "      <td>0.498371</td>\n",
       "      <td>0.189362</td>\n",
       "      <td>-0.516262</td>\n",
       "      <td>0.479169</td>\n",
       "      <td>-0.538940</td>\n",
       "      <td>0.303427</td>\n",
       "      <td>0.853987</td>\n",
       "      <td>-1.146935</td>\n",
       "      <td>-1.289083</td>\n",
       "      <td>17450.0</td>\n",
       "      <td>0.848214</td>\n",
       "      <td>0.567163</td>\n",
       "    </tr>\n",
       "  </tbody>\n",
       "</table>\n",
       "</div>"
      ],
      "text/plain": [
       "   wheel-base    length     width    height  curb-weight  engine-size  \\\n",
       "0   -1.678015 -0.442872 -0.839080 -2.117092    -0.025646     0.045098   \n",
       "1   -1.678015 -0.442872 -0.839080 -2.117092    -0.025646     0.045098   \n",
       "2   -0.719041 -0.250543 -0.184200 -0.613816     0.496473     0.574066   \n",
       "3    0.142410  0.182198  0.143240  0.179580    -0.426254    -0.459826   \n",
       "4    0.077395  0.182198  0.236794  0.179580     0.498371     0.189362   \n",
       "\n",
       "       bore    stroke  compression-rate  horsepower  peak-rpm  city-mpg  \\\n",
       "0  0.511697 -1.803495         -0.287525    0.198054 -0.212806 -0.677292   \n",
       "1  0.511697 -1.803495         -0.287525    0.198054 -0.212806 -0.677292   \n",
       "2 -2.388614  0.701095         -0.287525    1.330822 -0.212806 -0.990387   \n",
       "3 -0.516262  0.479169         -0.036110   -0.039037  0.853987 -0.207649   \n",
       "4 -0.516262  0.479169         -0.538940    0.303427  0.853987 -1.146935   \n",
       "\n",
       "   highway-mpg    price  num-of-doors  num-of-cylinders  \n",
       "0    -0.555613  13495.0     -1.172839         -0.410180  \n",
       "1    -0.555613  16500.0     -1.172839         -0.410180  \n",
       "2    -0.702307  16500.0     -1.172839          1.544506  \n",
       "3    -0.115531  13950.0      0.848214         -0.410180  \n",
       "4    -1.289083  17450.0      0.848214          0.567163  "
      ]
     },
     "execution_count": 21,
     "metadata": {},
     "output_type": "execute_result"
    }
   ],
   "source": [
    "numeric_cars.head()"
   ]
  },
  {
   "cell_type": "markdown",
   "metadata": {},
   "source": [
    "### Univariate KNeighbors classification\n",
    "\n",
    "We create a function, named knn_train_test() that encapsulates the training and simple validation process. This function will have 3 parameters -- training column name, target column name, and the dataframe object."
   ]
  },
  {
   "cell_type": "code",
   "execution_count": 22,
   "metadata": {
    "collapsed": true
   },
   "outputs": [],
   "source": [
    "from sklearn.neighbors import KNeighborsRegressor\n",
    "from sklearn.metrics import mean_squared_error"
   ]
  },
  {
   "cell_type": "code",
   "execution_count": 23,
   "metadata": {
    "collapsed": true
   },
   "outputs": [],
   "source": [
    "# Function to train and test a univariate model\n",
    "def knn_train_test(train_col, target_col, df):\n",
    "    split_no = round(len(df) * 0.75)\n",
    "    np.random.seed(0)\n",
    "    shuffled_index = np.random.permutation(df.index)\n",
    "    rand_df = df.reindex(shuffled_index)\n",
    "    train = rand_df[:split_no]\n",
    "    test = rand_df[split_no:]\n",
    "    model = KNeighborsRegressor()\n",
    "    model.fit(train[[train_col]], train[target_col])\n",
    "    preds = model.predict(test[[train_col]])\n",
    "    rmse = (mean_squared_error(test[target_col], preds))**0.5\n",
    "    return rmse "
   ]
  },
  {
   "cell_type": "code",
   "execution_count": 24,
   "metadata": {
    "collapsed": false
   },
   "outputs": [],
   "source": [
    "numeric_cars_vars = numeric_cars.drop('price', axis = 'columns')\n",
    "result = {}\n",
    "for cols in numeric_cars_vars.columns:\n",
    "    res = knn_train_test(cols,'price',numeric_cars)\n",
    "    result[cols] = res"
   ]
  },
  {
   "cell_type": "code",
   "execution_count": 25,
   "metadata": {
    "collapsed": false,
    "scrolled": true
   },
   "outputs": [
    {
     "data": {
      "text/plain": [
       "{'bore': 4610.4156534416725,\n",
       " 'city-mpg': 2994.1212153986016,\n",
       " 'compression-rate': 5191.419874096745,\n",
       " 'curb-weight': 2531.7903089184406,\n",
       " 'engine-size': 2173.4207630675965,\n",
       " 'height': 6133.687500666571,\n",
       " 'highway-mpg': 2723.012901640387,\n",
       " 'horsepower': 2312.6410243485693,\n",
       " 'length': 2465.236360540979,\n",
       " 'num-of-cylinders': 4133.632740802373,\n",
       " 'num-of-doors': 8498.947787520523,\n",
       " 'peak-rpm': 7132.430705703819,\n",
       " 'stroke': 4622.480034930744,\n",
       " 'wheel-base': 5866.883628611246,\n",
       " 'width': 3175.711407438235}"
      ]
     },
     "execution_count": 25,
     "metadata": {},
     "output_type": "execute_result"
    }
   ],
   "source": [
    "result"
   ]
  },
  {
   "cell_type": "markdown",
   "metadata": {},
   "source": [
    "Using default k-value for univariate classification, the engine-size column produced the best result with the lowest RMSE value of ~2173, others scored higher.\n",
    "\n",
    "### Univariate classification with varying k-values\n",
    "\n",
    "Lets modify the function above to accept varying k- values. So we can see the best models achieved from using different k-values."
   ]
  },
  {
   "cell_type": "code",
   "execution_count": 26,
   "metadata": {
    "collapsed": false
   },
   "outputs": [],
   "source": [
    "# Function to train and test a univariate model\n",
    "def knn_train_test2(train_col, target_col, df):\n",
    "    split_no = round(len(df) * 0.75)\n",
    "    np.random.seed(0)\n",
    "    shuffled_index = np.random.permutation(df.index)\n",
    "    rand_df = df.reindex(shuffled_index)\n",
    "    train = rand_df[:split_no]\n",
    "    test = rand_df[split_no:]\n",
    "\n",
    "    k_values = [1,3,5,7,9]\n",
    "    k_rmses = {}\n",
    "    \n",
    "    for k in k_values:\n",
    "        # Fit model using k nearest neighbors.\n",
    "        model = KNeighborsRegressor(n_neighbors=k)\n",
    "        model.fit(train[[train_col]], train[target_col])\n",
    "        pred = model.predict(test[[train_col]])\n",
    "        mse = mean_squared_error(test[target_col], pred)\n",
    "        rmse = np.sqrt(mse)\n",
    "        k_rmses[k] = rmse\n",
    "    return k_rmses\n"
   ]
  },
  {
   "cell_type": "code",
   "execution_count": 27,
   "metadata": {
    "collapsed": false
   },
   "outputs": [
    {
     "data": {
      "text/plain": [
       "{'bore': {1: 11075.227218323786,\n",
       "  3: 4649.359285308987,\n",
       "  5: 4610.4156534416725,\n",
       "  7: 4701.599763653328,\n",
       "  9: 4727.076910501706},\n",
       " 'city-mpg': {1: 4237.879528235003,\n",
       "  3: 2842.22744181716,\n",
       "  5: 2994.1212153986016,\n",
       "  7: 3053.4319219037257,\n",
       "  9: 3087.88499040877},\n",
       " 'compression-rate': {1: 4992.805565678145,\n",
       "  3: 5860.1981489457685,\n",
       "  5: 5191.419874096745,\n",
       "  7: 5414.832852466737,\n",
       "  9: 5786.497805395925},\n",
       " 'curb-weight': {1: 2667.2855427694026,\n",
       "  3: 2340.184385541732,\n",
       "  5: 2531.7903089184406,\n",
       "  7: 2674.6373130534075,\n",
       "  9: 2669.324827165441},\n",
       " 'engine-size': {1: 3134.3663268407754,\n",
       "  3: 2340.742910420789,\n",
       "  5: 2173.4207630675965,\n",
       "  7: 2268.839717121903,\n",
       "  9: 2479.2547058753235},\n",
       " 'height': {1: 6858.126060557651,\n",
       "  3: 7134.092984765322,\n",
       "  5: 6133.687500666571,\n",
       "  7: 5184.018599188731,\n",
       "  9: 5508.230111866949},\n",
       " 'highway-mpg': {1: 3735.835811211908,\n",
       "  3: 3701.8726648619145,\n",
       "  5: 2723.012901640387,\n",
       "  7: 2748.077151580249,\n",
       "  9: 2791.7443909393933},\n",
       " 'horsepower': {1: 2648.915245749978,\n",
       "  3: 2270.052640012105,\n",
       "  5: 2312.6410243485693,\n",
       "  7: 2136.2862745354864,\n",
       "  9: 2199.5212689940513},\n",
       " 'length': {1: 2142.9161643657458,\n",
       "  3: 2314.3828310996623,\n",
       "  5: 2465.236360540979,\n",
       "  7: 3225.206971421121,\n",
       "  9: 3593.1230983357973},\n",
       " 'num-of-cylinders': {1: 7967.313807833855,\n",
       "  3: 4065.734628792103,\n",
       "  5: 4133.632740802373,\n",
       "  7: 4453.281354636648,\n",
       "  9: 4158.5661542297175},\n",
       " 'num-of-doors': {1: 14978.19726580383,\n",
       "  3: 8896.817363997832,\n",
       "  5: 8498.947787520523,\n",
       "  7: 6994.3704138681815,\n",
       "  9: 6028.087623500917},\n",
       " 'peak-rpm': {1: 4677.557114830347,\n",
       "  3: 7352.900003286685,\n",
       "  5: 7132.430705703819,\n",
       "  7: 6775.658208450165,\n",
       "  9: 6873.712737119457},\n",
       " 'stroke': {1: 5755.582623273975,\n",
       "  3: 5879.504791245415,\n",
       "  5: 4622.480034930744,\n",
       "  7: 5369.8392437997345,\n",
       "  9: 5112.100406924071},\n",
       " 'wheel-base': {1: 3376.9081396054194,\n",
       "  3: 4874.885971838308,\n",
       "  5: 5866.883628611246,\n",
       "  7: 4959.858399630755,\n",
       "  9: 4810.1091982377275},\n",
       " 'width': {1: 2851.714045973053,\n",
       "  3: 2243.8643099944047,\n",
       "  5: 3175.711407438235,\n",
       "  7: 3111.394004109657,\n",
       "  9: 3037.959213369851}}"
      ]
     },
     "execution_count": 27,
     "metadata": {},
     "output_type": "execute_result"
    }
   ],
   "source": [
    "results2 = {}\n",
    "\n",
    "for col in numeric_cars_vars.columns:\n",
    "    rmse_val = knn_train_test2(col, 'price', numeric_cars)\n",
    "    results2[col] = rmse_val\n",
    "\n",
    "results2"
   ]
  },
  {
   "cell_type": "code",
   "execution_count": 28,
   "metadata": {
    "collapsed": false
   },
   "outputs": [
    {
     "data": {
      "image/png": "[encoded data removed]",
      "text/plain": [
       "<matplotlib.figure.Figure at 0x7f229f44b6a0>"
      ]
     },
     "metadata": {},
     "output_type": "display_data"
    }
   ],
   "source": [
    "import matplotlib.pyplot as plt\n",
    "%matplotlib inline\n",
    "\n",
    "for k,v in results2.items():\n",
    "    x = list(v.keys())\n",
    "    y = list(v.values())\n",
    "    \n",
    "    plt.plot(x,y)\n",
    "    plt.xlabel('k value')\n",
    "    plt.ylabel('RMSE')"
   ]
  },
  {
   "cell_type": "markdown",
   "metadata": {},
   "source": [
    "From the plot above, higher k-values tend to perform better. Particularly those between 3 and above k-folds"
   ]
  },
  {
   "cell_type": "markdown",
   "metadata": {},
   "source": [
    "### Multivariate KNeighbors classification"
   ]
  },
  {
   "cell_type": "code",
   "execution_count": 29,
   "metadata": {
    "collapsed": true
   },
   "outputs": [],
   "source": [
    "# Function to train and test a multivariate model\n",
    "\n",
    "def knn_train_test_multi(train_cols, target_col, df):\n",
    "    split_no = round(len(df) * 0.5)\n",
    "    np.random.seed(0)\n",
    "    shuffled_index = np.random.permutation(df.index)\n",
    "    rand_df = df.reindex(shuffled_index)\n",
    "    train = rand_df[:split_no]\n",
    "    test = rand_df[split_no:]\n",
    "    model = KNeighborsRegressor()\n",
    "    model.fit(train[train_cols], train[target_col])\n",
    "    preds = model.predict(test[train_cols])\n",
    "    rmse = (mean_squared_error(test[target_col], preds))**0.5\n",
    "    return rmse "
   ]
  },
  {
   "cell_type": "code",
   "execution_count": 30,
   "metadata": {
    "collapsed": false
   },
   "outputs": [
    {
     "name": "stdout",
     "output_type": "stream",
     "text": [
      "two_features  :  3238.69\n",
      "all_features  :  4633.8\n",
      "five_features  :  3845.9\n",
      "three_features  :  3757.19\n",
      "four_features  :  3704.34\n"
     ]
    }
   ],
   "source": [
    "# Using the function above with all the variables\n",
    "features = ['wheel-base', 'length', 'width', 'height', 'curb-weight', 'engine-size',\n",
    "       'bore', 'stroke', 'compression-rate', 'horsepower', 'peak-rpm',\n",
    "       'city-mpg', 'highway-mpg', 'num-of-doors', 'num-of-cylinders']\n",
    "\n",
    "res_all = knn_train_test_multi(features, 'price', numeric_cars)\n",
    "\n",
    "\n",
    "# Using the best two features from the univariate default k-value function\n",
    "feat2 = ['engine-size', 'horsepower']\n",
    "res2 = knn_train_test_multi(feat2, 'price', numeric_cars)\n",
    "\n",
    "\n",
    "# Using the best three features from the univariate default k-value function\n",
    "feat3 = ['engine-size', 'horsepower', 'length']\n",
    "res3 = knn_train_test_multi(feat3, 'price', numeric_cars)\n",
    "\n",
    "\n",
    "# Using the best four features from the univariate default k-value function\n",
    "feat4 = ['engine-size', 'horsepower', 'length','curb-weight']\n",
    "res4 = knn_train_test_multi(feat4, 'price', numeric_cars)\n",
    "\n",
    "\n",
    "# Using the best five features from the univariate default k-value function\n",
    "feat5 = ['engine-size', 'horsepower', 'length','curb-weight','highway-mpg']\n",
    "res5 = knn_train_test_multi(feat5, 'price', numeric_cars)\n",
    "\n",
    "results_multivar = {'all_features':round(res_all,2),\n",
    "                    'two_features':round(res2,2), \n",
    "                    'three_features':round(res3,2), \n",
    "                    'four_features':round(res4,2), \n",
    "                    'five_features':round(res5,2)}\n",
    "\n",
    "for key, value in results_multivar.items():\n",
    "    print(key, ' : ', value)"
   ]
  },
  {
   "cell_type": "markdown",
   "metadata": {},
   "source": [
    "This results indicates that the model with two_feature performed best, This best model can be tuned to perform even better by selecting the best k-value. We will vary the k-value between 1 and 25 for the top three models above to find the best hyper-parameter setting.\n",
    "\n",
    "### Seeking the best model by varying k hyperparameter"
   ]
  },
  {
   "cell_type": "code",
   "execution_count": 36,
   "metadata": {
    "collapsed": false
   },
   "outputs": [],
   "source": [
    "# Function to train and test a multivariate model with varying k-values\n",
    "def knn_train_test2_multi(train_cols, target_col, df):\n",
    "    split_no = round(len(df) * 0.5)\n",
    "    np.random.seed(0)\n",
    "    shuffled_index = np.random.permutation(df.index)\n",
    "    rand_df = df.reindex(shuffled_index)\n",
    "    train = rand_df[:split_no]\n",
    "    test = rand_df[split_no:]\n",
    "\n",
    "    k_rmses = {}\n",
    "    \n",
    "    for k in range(1,26):\n",
    "        # Fit model using k nearest neighbors.\n",
    "        model = KNeighborsRegressor(n_neighbors=k)\n",
    "        model.fit(train[train_cols], train[target_col])\n",
    "        pred = model.predict(test[train_cols])\n",
    "        mse = mean_squared_error(test[target_col], pred)\n",
    "        rmse = np.sqrt(mse)\n",
    "        k_rmses[k] = rmse\n",
    "    return k_rmses"
   ]
  },
  {
   "cell_type": "code",
   "execution_count": 47,
   "metadata": {
    "collapsed": false
   },
   "outputs": [],
   "source": [
    "# The best performing model\n",
    "best_mod =knn_train_test2_multi(feat2,'price',numeric_cars)\n",
    "\n",
    "# 2nd best performing model\n",
    "second_best = knn_train_test2_multi(feat4, 'price', numeric_cars)\n",
    "\n",
    "# 3rd best performing model\n",
    "third_best = knn_train_test2_multi(feat3, 'price', numeric_cars)\n",
    "\n",
    "best_models = {'best model':best_mod,\n",
    "              'second best model':second_best,\n",
    "              'third best model':third_best\n",
    "              }"
   ]
  },
  {
   "cell_type": "code",
   "execution_count": 49,
   "metadata": {
    "collapsed": false
   },
   "outputs": [
    {
     "data": {
      "text/plain": [
       "{'best model': {1: 3048.3625602885677,\n",
       "  2: 3127.0202681997375,\n",
       "  3: 3095.330646288226,\n",
       "  4: 3293.7853473327805,\n",
       "  5: 3238.6925983167575,\n",
       "  6: 3252.361346759752,\n",
       "  7: 3345.190868982869,\n",
       "  8: 3535.0224362795775,\n",
       "  9: 3757.336544616072,\n",
       "  10: 3974.359740824242,\n",
       "  11: 4178.878034726736,\n",
       "  12: 4167.775188271822,\n",
       "  13: 4185.583106910495,\n",
       "  14: 4325.286158350686,\n",
       "  15: 4261.221866055859,\n",
       "  16: 4259.238930441857,\n",
       "  17: 4319.958061108261,\n",
       "  18: 4422.991292672199,\n",
       "  19: 4517.804857679555,\n",
       "  20: 4631.836701908254,\n",
       "  21: 4698.494800333434,\n",
       "  22: 4765.376092225417,\n",
       "  23: 4803.856937402052,\n",
       "  24: 4863.532499282952,\n",
       "  25: 4873.501676868618},\n",
       " 'second best model': {1: 3016.161852352693,\n",
       "  2: 3224.5864583415328,\n",
       "  3: 3590.3669446521567,\n",
       "  4: 3817.508237371192,\n",
       "  5: 3704.3411264394817,\n",
       "  6: 3951.3797488021805,\n",
       "  7: 4134.2003657554,\n",
       "  8: 4322.773059093579,\n",
       "  9: 4380.994908806551,\n",
       "  10: 4355.728447664503,\n",
       "  11: 4375.756783777461,\n",
       "  12: 4451.554595669627,\n",
       "  13: 4494.65014692673,\n",
       "  14: 4538.93720955336,\n",
       "  15: 4557.017086639756,\n",
       "  16: 4543.86231237223,\n",
       "  17: 4601.4065630296145,\n",
       "  18: 4646.11986932222,\n",
       "  19: 4644.346109333013,\n",
       "  20: 4602.97908404376,\n",
       "  21: 4607.525886452374,\n",
       "  22: 4626.156537262314,\n",
       "  23: 4657.736079732253,\n",
       "  24: 4703.121190682052,\n",
       "  25: 4740.134670984364},\n",
       " 'third best model': {1: 3267.4184598475563,\n",
       "  2: 3318.033372936072,\n",
       "  3: 3461.957399270572,\n",
       "  4: 3604.8890437905625,\n",
       "  5: 3757.1923519410793,\n",
       "  6: 3723.883715862634,\n",
       "  7: 3833.438858492589,\n",
       "  8: 4028.152469234436,\n",
       "  9: 4206.444917711707,\n",
       "  10: 4299.5512114638195,\n",
       "  11: 4201.838428109693,\n",
       "  12: 4330.074656945561,\n",
       "  13: 4437.695747429939,\n",
       "  14: 4520.015952722463,\n",
       "  15: 4522.803523589068,\n",
       "  16: 4493.081336354267,\n",
       "  17: 4510.50735073706,\n",
       "  18: 4500.341603904392,\n",
       "  19: 4550.805714159647,\n",
       "  20: 4602.824417717348,\n",
       "  21: 4617.280306172258,\n",
       "  22: 4663.148105162606,\n",
       "  23: 4696.5826408909925,\n",
       "  24: 4728.654835184254,\n",
       "  25: 4759.889509442744}}"
      ]
     },
     "execution_count": 49,
     "metadata": {},
     "output_type": "execute_result"
    }
   ],
   "source": [
    "best_models"
   ]
  },
  {
   "cell_type": "code",
   "execution_count": 50,
   "metadata": {
    "collapsed": false
   },
   "outputs": [
    {
     "data": {
      "text/plain": [
       "<matplotlib.legend.Legend at 0x7f229a6a5588>"
      ]
     },
     "execution_count": 50,
     "metadata": {},
     "output_type": "execute_result"
    },
    {
     "data": {
      "image/png": "[encoded data removed]",
      "text/plain": [
       "<matplotlib.figure.Figure at 0x7f229a6a4e80>"
      ]
     },
     "metadata": {},
     "output_type": "display_data"
    }
   ],
   "source": [
    "for k,v in best_models.items():\n",
    "    x = list(v.keys())\n",
    "    y = list(v.values())  \n",
    "    plt.plot(x,y, label=\"{}\".format(k))\n",
    "    \n",
    "plt.xlabel('k value')\n",
    "plt.ylabel('RMSE')\n",
    "plt.legend()"
   ]
  },
  {
   "cell_type": "markdown",
   "metadata": {},
   "source": [
    "### Conclusion\n",
    "\n",
    "Finally, by varying the k-values of the three best models above the optimal k-values were generally between 1 to about 4 or thereabout. K-values from 5 and above seem to perform generally worse."
   ]
  }
 ],
 "metadata": {
  "kernelspec": {
   "display_name": "Python 3",
   "language": "python",
   "name": "python3"
  },
  "language_info": {
   "codemirror_mode": {
    "name": "ipython",
    "version": 3
   },
   "file_extension": ".py",
   "mimetype": "text/x-python",
   "name": "python",
   "nbconvert_exporter": "python",
   "pygments_lexer": "ipython3",
   "version": "3.4.3"
  }
 },
 "nbformat": 4,
 "nbformat_minor": 2
}
