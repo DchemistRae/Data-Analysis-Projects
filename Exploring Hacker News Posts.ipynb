{
 "cells": [
  {
   "cell_type": "code",
   "execution_count": 1,
   "metadata": {
    "collapsed": true
   },
   "outputs": [],
   "source": [
    "title = \"Exploring Hacker News Posts\"\n",
    "introduction = \"A data analysis project that studies patterns and statistics of posts and comments from the website Hacker news.\""
   ]
  },
  {
   "cell_type": "code",
   "execution_count": 2,
   "metadata": {
    "collapsed": true
   },
   "outputs": [],
   "source": [
    "#Import and write csv to list\n",
    "from csv import reader\n",
    "opened = open(\"hacker_news.csv\")\n",
    "read = reader(opened)\n",
    "hn = list(read)"
   ]
  },
  {
   "cell_type": "code",
   "execution_count": 3,
   "metadata": {
    "collapsed": false
   },
   "outputs": [
    {
     "name": "stdout",
     "output_type": "stream",
     "text": [
      "[['id', 'title', 'url', 'num_points', 'num_comments', 'author', 'created_at'], ['12224879', 'Interactive Dynamic Video', 'http://www.interactivedynamicvideo.com/', '386', '52', 'ne0phyte', '8/4/2016 11:52'], ['10975351', 'How to Use Open Source and Shut the Fuck Up at the Same Time', 'http://hueniverse.com/2016/01/26/how-to-use-open-source-and-shut-the-fuck-up-at-the-same-time/', '39', '10', 'josep2', '1/26/2016 19:30'], ['11964716', \"Florida DJs May Face Felony for April Fools' Water Joke\", 'http://www.thewire.com/entertainment/2013/04/florida-djs-april-fools-water-joke/63798/', '2', '1', 'vezycash', '6/23/2016 22:20'], ['11919867', 'Technology ventures: From Idea to Enterprise', 'https://www.amazon.com/Technology-Ventures-Enterprise-Thomas-Byers/dp/0073523429', '3', '1', 'hswarna', '6/17/2016 0:01']]\n"
     ]
    }
   ],
   "source": [
    "#display first 5 rows\n",
    "print(hn[:5])"
   ]
  },
  {
   "cell_type": "code",
   "execution_count": 4,
   "metadata": {
    "collapsed": false
   },
   "outputs": [],
   "source": [
    "#save first row as header\n",
    "headers = hn[0]"
   ]
  },
  {
   "cell_type": "code",
   "execution_count": 5,
   "metadata": {
    "collapsed": false
   },
   "outputs": [],
   "source": [
    "#remove first row from list\n",
    "hn.remove(hn[0])"
   ]
  },
  {
   "cell_type": "code",
   "execution_count": 6,
   "metadata": {
    "collapsed": false
   },
   "outputs": [
    {
     "name": "stdout",
     "output_type": "stream",
     "text": [
      "['id', 'title', 'url', 'num_points', 'num_comments', 'author', 'created_at']\n",
      "[['12224879', 'Interactive Dynamic Video', 'http://www.interactivedynamicvideo.com/', '386', '52', 'ne0phyte', '8/4/2016 11:52'], ['10975351', 'How to Use Open Source and Shut the Fuck Up at the Same Time', 'http://hueniverse.com/2016/01/26/how-to-use-open-source-and-shut-the-fuck-up-at-the-same-time/', '39', '10', 'josep2', '1/26/2016 19:30'], ['11964716', \"Florida DJs May Face Felony for April Fools' Water Joke\", 'http://www.thewire.com/entertainment/2013/04/florida-djs-april-fools-water-joke/63798/', '2', '1', 'vezycash', '6/23/2016 22:20'], ['11919867', 'Technology ventures: From Idea to Enterprise', 'https://www.amazon.com/Technology-Ventures-Enterprise-Thomas-Byers/dp/0073523429', '3', '1', 'hswarna', '6/17/2016 0:01'], ['10301696', 'Note by Note: The Making of Steinway L1037 (2007)', 'http://www.nytimes.com/2007/11/07/movies/07stein.html?_r=0', '8', '2', 'walterbell', '9/30/2015 4:12']]\n"
     ]
    }
   ],
   "source": [
    "#display header and first 5 rows\n",
    "print(headers)\n",
    "print(hn[:5])"
   ]
  },
  {
   "cell_type": "code",
   "execution_count": 7,
   "metadata": {
    "collapsed": true
   },
   "outputs": [],
   "source": [
    "#create 3 empty ists\n",
    "ask_posts = []\n",
    "show_posts = []\n",
    "other_posts = []"
   ]
  },
  {
   "cell_type": "code",
   "execution_count": 8,
   "metadata": {
    "collapsed": false
   },
   "outputs": [],
   "source": [
    "#Seperate into different lists\n",
    "for row in hn:\n",
    "    title = row[1]\n",
    "    if title.lower().startswith(\"ask hn\"):\n",
    "        ask_posts.append(row)\n",
    "    if title.lower().startswith(\"show hn\"):\n",
    "        show_posts.append(row)\n",
    "    else:\n",
    "        other_posts.append(row)"
   ]
  },
  {
   "cell_type": "code",
   "execution_count": 9,
   "metadata": {
    "collapsed": false
   },
   "outputs": [
    {
     "name": "stdout",
     "output_type": "stream",
     "text": [
      "1744\n",
      "1162\n",
      "18938\n"
     ]
    }
   ],
   "source": [
    "#print lengths\n",
    "print(len(ask_posts)) \n",
    "print(len(show_posts))\n",
    "print(len(other_posts))"
   ]
  },
  {
   "cell_type": "code",
   "execution_count": 10,
   "metadata": {
    "collapsed": false
   },
   "outputs": [],
   "source": [
    "#Initialize a string var\n",
    "total_ask_comments = 0"
   ]
  },
  {
   "cell_type": "code",
   "execution_count": 11,
   "metadata": {
    "collapsed": false
   },
   "outputs": [
    {
     "name": "stdout",
     "output_type": "stream",
     "text": [
      "14.038417431192661\n"
     ]
    }
   ],
   "source": [
    "#Compute and print average number of comments\n",
    "for rows in ask_posts:\n",
    "    num_comments = rows[4]\n",
    "    total_ask_comments =total_ask_comments + int(num_comments)\n",
    "avg_ask_comments = total_ask_comments/len(ask_posts)\n",
    "print(avg_ask_comments)"
   ]
  },
  {
   "cell_type": "code",
   "execution_count": 12,
   "metadata": {
    "collapsed": false
   },
   "outputs": [],
   "source": [
    "#Initialize a string var for show comments\n",
    "total_show_comments = 0"
   ]
  },
  {
   "cell_type": "code",
   "execution_count": 13,
   "metadata": {
    "collapsed": false
   },
   "outputs": [
    {
     "name": "stdout",
     "output_type": "stream",
     "text": [
      "10.31669535283993\n"
     ]
    }
   ],
   "source": [
    "#Compute and print average number of comments\n",
    "for i in show_posts:\n",
    "    n_comments = i[4]\n",
    "    total_show_comments =total_show_comments + int(n_comments)\n",
    "avg_show_comments = total_show_comments/len(show_posts)\n",
    "print(avg_show_comments)"
   ]
  },
  {
   "cell_type": "code",
   "execution_count": 14,
   "metadata": {
    "collapsed": true
   },
   "outputs": [],
   "source": [
    "#Ask posts record more comments on average from the numbers above: ask posts record approximately 14 comments per post, while show posts record approximately 10 comments per post."
   ]
  },
  {
   "cell_type": "code",
   "execution_count": 15,
   "metadata": {
    "collapsed": true
   },
   "outputs": [],
   "source": [
    "import datetime as dt"
   ]
  },
  {
   "cell_type": "code",
   "execution_count": 16,
   "metadata": {
    "collapsed": true
   },
   "outputs": [],
   "source": [
    "result_list =[]   "
   ]
  },
  {
   "cell_type": "code",
   "execution_count": 17,
   "metadata": {
    "collapsed": false
   },
   "outputs": [],
   "source": [
    "#iterate ask_posts to numbers of comments and hours when commented \n",
    "for item in ask_posts:\n",
    "    created_at = item[6]\n",
    "    nu_comments = int(item[4])\n",
    "    lists = [created_at,nu_comments]\n",
    "    result_list.append(lists)"
   ]
  },
  {
   "cell_type": "code",
   "execution_count": 18,
   "metadata": {
    "collapsed": true
   },
   "outputs": [],
   "source": [
    "#instantiate empty dictionaries\n",
    "counts_by_hour = {}\n",
    "comments_by_hour = {}"
   ]
  },
  {
   "cell_type": "code",
   "execution_count": 19,
   "metadata": {
    "collapsed": false
   },
   "outputs": [],
   "source": [
    "#load the dicts with n of comments and hour commented\n",
    "for items in result_list:\n",
    "    date = items[0]\n",
    "    nos = items[1]\n",
    "    date = dt.datetime.strptime(date, \"%m/%d/%Y %H:%M\")\n",
    "    hour = dt.datetime.strftime(date, \"%H\")\n",
    "    if hour not in counts_by_hour.keys():\n",
    "        counts_by_hour[hour] = 1\n",
    "        comments_by_hour[hour] = nos\n",
    "    else:\n",
    "        counts_by_hour[hour] += 1\n",
    "        comments_by_hour[hour] += nos"
   ]
  },
  {
   "cell_type": "code",
   "execution_count": 28,
   "metadata": {
    "collapsed": false
   },
   "outputs": [],
   "source": [
    "#Create avg number of comments for each hour\n",
    "avg_by_hour = []\n",
    "for time in comments_by_hour:\n",
    "    avg_by_hour.append([time, comments_by_hour[time]/(counts_by_hour[time])])"
   ]
  },
  {
   "cell_type": "code",
   "execution_count": 29,
   "metadata": {
    "collapsed": false
   },
   "outputs": [
    {
     "name": "stdout",
     "output_type": "stream",
     "text": [
      "[['19', 10.8], ['12', 9.41095890410959], ['23', 7.985294117647059], ['14', 13.233644859813085], ['21', 16.009174311926607], ['18', 13.20183486238532], ['03', 7.796296296296297], ['06', 9.022727272727273], ['02', 23.810344827586206], ['22', 6.746478873239437], ['13', 14.741176470588234], ['16', 16.796296296296298], ['15', 38.5948275862069], ['07', 7.852941176470588], ['05', 10.08695652173913], ['17', 11.46], ['00', 8.127272727272727], ['20', 21.525], ['04', 7.170212765957447], ['11', 11.051724137931034], ['01', 11.383333333333333], ['08', 10.25], ['09', 5.5777777777777775], ['10', 13.440677966101696]]\n"
     ]
    }
   ],
   "source": [
    "print(avg_by_hour)"
   ]
  },
  {
   "cell_type": "code",
   "execution_count": 30,
   "metadata": {
    "collapsed": false
   },
   "outputs": [
    {
     "name": "stdout",
     "output_type": "stream",
     "text": [
      "[[10.8, '19'], [9.41095890410959, '12'], [7.985294117647059, '23'], [13.233644859813085, '14'], [16.009174311926607, '21'], [13.20183486238532, '18'], [7.796296296296297, '03'], [9.022727272727273, '06'], [23.810344827586206, '02'], [6.746478873239437, '22'], [14.741176470588234, '13'], [16.796296296296298, '16'], [38.5948275862069, '15'], [7.852941176470588, '07'], [10.08695652173913, '05'], [11.46, '17'], [8.127272727272727, '00'], [21.525, '20'], [7.170212765957447, '04'], [11.051724137931034, '11'], [11.383333333333333, '01'], [10.25, '08'], [5.5777777777777775, '09'], [13.440677966101696, '10']]\n"
     ]
    }
   ],
   "source": [
    "#swap the indexes of avg and hour\n",
    "swap_avg_by_hour = []\n",
    "for i in avg_by_hour:\n",
    "    hour = i[0]\n",
    "    avg_hours = i[1]\n",
    "    lis = [avg_hours,hour]\n",
    "    swap_avg_by_hour.append(lis)\n",
    "print(swap_avg_by_hour)"
   ]
  },
  {
   "cell_type": "code",
   "execution_count": 32,
   "metadata": {
    "collapsed": true
   },
   "outputs": [],
   "source": [
    "#sort by avg value\n",
    "sorted_swap = sorted(swap_avg_by_hour, reverse =True)"
   ]
  },
  {
   "cell_type": "code",
   "execution_count": 40,
   "metadata": {
    "collapsed": false
   },
   "outputs": [
    {
     "name": "stdout",
     "output_type": "stream",
     "text": [
      "Top 5 Hours for Ask Posts Comments\n",
      "15:00 38.59 average comments per post\n",
      "02:00 23.81 average comments per post\n",
      "20:00 21.52 average comments per post\n",
      "16:00 16.80 average comments per post\n",
      "21:00 16.01 average comments per post\n"
     ]
    }
   ],
   "source": [
    "#print result\n",
    "print(\"Top 5 Hours for Ask Posts Comments\")\n",
    "for items in sorted_swap[:5]:\n",
    "    time = items[1]\n",
    "    time = dt.datetime.strptime(time, \"%H\")\n",
    "    time = dt.datetime.strftime(time, \"%H:%M\")\n",
    "    print(\"{} {:.2f} average comments per post\".format(time,items[0]))"
   ]
  },
  {
   "cell_type": "code",
   "execution_count": null,
   "metadata": {
    "collapsed": true
   },
   "outputs": [],
   "source": [
    "#15:00, 02:00, 20:00, 16:00 and 21:00 hours had the highest numbers of comments"
   ]
  }
 ],
 "metadata": {
  "kernelspec": {
   "display_name": "Python 3",
   "language": "python",
   "name": "python3"
  },
  "language_info": {
   "codemirror_mode": {
    "name": "ipython",
    "version": 3
   },
   "file_extension": ".py",
   "mimetype": "text/x-python",
   "name": "python",
   "nbconvert_exporter": "python",
   "pygments_lexer": "ipython3",
   "version": "3.4.3"
  }
 },
 "nbformat": 4,
 "nbformat_minor": 2
}
